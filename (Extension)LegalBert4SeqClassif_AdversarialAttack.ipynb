{
 "cells": [
  {
   "cell_type": "markdown",
   "metadata": {
    "id": "MXqml7sZuRKJ"
   },
   "source": [
    "# Adversarial attacks against Legal-BERT Model (BertForSequenceClassification)"
   ]
  },
  {
   "cell_type": "code",
   "execution_count": null,
   "metadata": {
    "id": "Vgl8t7lyuGJa"
   },
   "outputs": [],
   "source": [
    "# Global variables\n",
    "\n",
    "BATCH_SIZE = 32\n",
    "MODEL_NAME = 'nlpaueb/legal-bert-small-uncased'#'bert-base-uncased'\n",
    "EPOCHS = 3\n",
    "EMBEDDING_SIZE = 512\n",
    "NUM_CLASSES = 2\n",
    "VOCABULARY_SIZE = 30522\n",
    "NUM_TOKENS = 6\n",
    "LIST_ID_SPECIAL_TOKENS = [0, 101, 102, 103]\n",
    "LIST_SPECIAL_TOKENS = ['[PAD]', '[CLS]', '[SEP]', '[MASK]']"
   ]
  },
  {
   "cell_type": "markdown",
   "metadata": {
    "id": "XCxFkLyZuvz0"
   },
   "source": [
    "### Installation of packages"
   ]
  },
  {
   "cell_type": "code",
   "execution_count": null,
   "metadata": {
    "colab": {
     "base_uri": "https://localhost:8080/"
    },
    "id": "X3e7ptYOuwQl",
    "outputId": "754f46df-d66e-4998-eb16-969d816dc303"
   },
   "outputs": [],
   "source": [
    "!pip install transformers\n",
    "!pip install torch-lr-finder"
   ]
  },
  {
   "cell_type": "markdown",
   "metadata": {
    "id": "yfPJufE5vMkb"
   },
   "source": [
    "### Imports"
   ]
  },
  {
   "cell_type": "code",
   "execution_count": null,
   "metadata": {
    "id": "aPfzDo8hvPBZ"
   },
   "outputs": [],
   "source": [
    "import torch\n",
    "import os\n",
    "from transformers import BertTokenizer\n",
    "from google.colab import drive\n",
    "from torch.utils.data import TensorDataset, random_split\n",
    "from transformers import BertForSequenceClassification, AdamW, BertConfig\n",
    "from transformers import get_linear_schedule_with_warmup\n",
    "import numpy as np\n",
    "import time\n",
    "import datetime\n",
    "import random\n",
    "import gc\n",
    "from torch.utils.data import DataLoader, RandomSampler, SequentialSampler\n",
    "from sklearn.metrics import f1_score, precision_score, recall_score, accuracy_score\n",
    "from sklearn.model_selection import train_test_split\n",
    "from copy import deepcopy"
   ]
  },
  {
   "cell_type": "code",
   "execution_count": null,
   "metadata": {
    "colab": {
     "base_uri": "https://localhost:8080/"
    },
    "id": "kOfJ1-iZZGns",
    "outputId": "0f956d2d-3997-4148-89c8-2761c948653c"
   },
   "outputs": [],
   "source": [
    "import nltk\n",
    "nltk.download('stopwords')"
   ]
  },
  {
   "cell_type": "code",
   "execution_count": null,
   "metadata": {
    "id": "eyTKo1yfZETU"
   },
   "outputs": [],
   "source": [
    "import re\n",
    "from nltk.corpus import stopwords\n",
    "from nltk.stem import PorterStemmer\n",
    "\n",
    "stop_words = set(stopwords.words('english'))\n",
    "\n",
    "stemer = PorterStemmer()\n",
    "\n",
    "special_chars = re.compile('[^⁰9a-z#+_]')\n",
    "add_space = re.compile('[/(){}\\[\\]\\\\@;]')\n",
    "                             \n",
    "def clean_text(text):\n",
    "    text = text.lower()\n",
    "    text = add_space.sub(' ',text)\n",
    "    text = special_chars.sub(' ',text)\n",
    "    \n",
    "    return re.sub(' +', ' ', text)"
   ]
  },
  {
   "cell_type": "markdown",
   "metadata": {
    "id": "_oG87aJ3vWxK"
   },
   "source": [
    "### Device"
   ]
  },
  {
   "cell_type": "code",
   "execution_count": null,
   "metadata": {
    "colab": {
     "base_uri": "https://localhost:8080/"
    },
    "id": "XQKxA_5MvV0w",
    "outputId": "662def7b-ae68-4f89-8cbb-bcf4b92afabd"
   },
   "outputs": [],
   "source": [
    "# If there's a GPU available...\n",
    "if torch.cuda.is_available():     \n",
    "    device = torch.device(\"cuda\")\n",
    "\n",
    "    print('There are %d GPU(s) available.' % torch.cuda.device_count())\n",
    "\n",
    "    print('We will use the GPU:', torch.cuda.get_device_name(0))\n",
    "\n",
    "# If not...\n",
    "else:\n",
    "    print('No GPU available, using the CPU instead.')\n",
    "    device = torch.device(\"cpu\")"
   ]
  },
  {
   "cell_type": "markdown",
   "metadata": {
    "id": "9PTbIu43vb0-"
   },
   "source": [
    "### Reading dataset"
   ]
  },
  {
   "cell_type": "code",
   "execution_count": null,
   "metadata": {
    "colab": {
     "base_uri": "https://localhost:8080/"
    },
    "id": "2dsmYWRXvcPc",
    "outputId": "7f561e40-17eb-4e7b-fb22-b0f76cdd42f6"
   },
   "outputs": [],
   "source": [
    "drive.mount('/content/drive')"
   ]
  },
  {
   "cell_type": "code",
   "execution_count": null,
   "metadata": {
    "id": "knj4Vy1wwsfI"
   },
   "outputs": [],
   "source": [
    "def read_by_lines(dir_path):\n",
    "\n",
    "    list_filled = []\n",
    "    \n",
    "    with open(dir_path, \"r\") as file:\n",
    "\n",
    "        for readline in file: \n",
    "            line_strip = readline.strip()\n",
    "            \n",
    "            if line_strip == \"1\": \n",
    "                list_filled.append(1) # unfair\n",
    "            elif line_strip == \"0\":\n",
    "                list_filled.append(0) # fair\n",
    "            else:\n",
    "                list_filled.append(clean_text(line_strip)) # sentence\n",
    "\n",
    "    return list_filled"
   ]
  },
  {
   "cell_type": "markdown",
   "metadata": {
    "id": "Zxsd7wncQIuA"
   },
   "source": [
    "### You can reach to data split by this link: https://drive.google.com/drive/folders/1Y0C48PysRbc2dXHkxOmm5zgQ1w9kftYB?usp=sharing"
   ]
  },
  {
   "cell_type": "code",
   "execution_count": null,
   "metadata": {
    "id": "utKztVafwtnw"
   },
   "outputs": [],
   "source": [
    "dir_train_x = \"/data/train_x.txt\"\n",
    "dir_train_y = \"/data/train_y.txt\"\n",
    "\n",
    "dir_val_x = \"/data/val_x.txt\"\n",
    "dir_val_y = \"/data/val_y.txt\"\n",
    "\n",
    "dir_test_x = \"/data/test_x.txt\"\n",
    "dir_test_y = \"/data/test_y.txt\"\n",
    "\n",
    "\n",
    "train_x = read_by_lines(dir_train_x)\n",
    "train_y = read_by_lines(dir_train_y)\n",
    "\n",
    "val_x = read_by_lines(dir_val_x)\n",
    "val_y = read_by_lines(dir_val_y)\n",
    "\n",
    "test_x = read_by_lines(dir_test_x)\n",
    "test_y = read_by_lines(dir_test_y)"
   ]
  },
  {
   "cell_type": "code",
   "execution_count": null,
   "metadata": {
    "colab": {
     "base_uri": "https://localhost:8080/"
    },
    "id": "5jOzN8Jrw-Qb",
    "outputId": "038ae07e-f397-4e5c-a473-2eeedeecc766"
   },
   "outputs": [],
   "source": [
    "print(\"NUMBER OF TRAIN:\", len(train_x))\n",
    "print(\"NUMBER OF VAL:\", len(val_x))\n",
    "print(\"NUMBER OF TEST:\", len(test_x))"
   ]
  },
  {
   "cell_type": "markdown",
   "metadata": {
    "id": "jU5yamL5xKAY"
   },
   "source": [
    "### Legal-Bert Tokenizer"
   ]
  },
  {
   "cell_type": "code",
   "execution_count": null,
   "metadata": {
    "colab": {
     "base_uri": "https://localhost:8080/",
     "height": 130,
     "referenced_widgets": [
      "9493f743940344a0b125b5b448e6989a",
      "dfd7af79ab024f0a8cfd8e4cc01077d8",
      "b0851cbc9bd6471db4591193691157d3",
      "53d957b06be348ae8ec8b4d611980ea4",
      "a8e6d9ca608a42729d853c9c3a5f5df7",
      "d3170123a5674b1997fc5df7d90976c1",
      "d6766c98e2f847088fa634fd7cf42152",
      "e248b87287f24d09a68f1d7186cb0d82",
      "ecd0dc1ada2646eaa3fffbb7483201f3",
      "f5aa4290c024440aab99a6ddefe915a8",
      "7be9f137b33d407f97f67e0146c673b2",
      "8ba59f1009b547739009dcb96f6e8d3e",
      "e5df21c5164b40d887a687b94f95be93",
      "f4c55c946e9847e3a1de5cb156c49534",
      "1cf954797f9d411f906e7ffbd3efd162",
      "9a2a73d70d9848718a1daddd01c8217c",
      "0a31689288474ae698becfa8ab434309",
      "9d13672c0a0248848b798200d3aef7f3",
      "e3133e29ca9a4503a97eaa4de9a66128",
      "a9ab825be94d41ceb9511d5a8c9e3d08",
      "7602065d52b04b9695da3a24a4198a97",
      "2b9ff3152d7f4cfe93c1db0aa86eb8b1",
      "ab0e98ebba7f423aafc9071f76802381",
      "7083f96f1a5443829ae965f0de0d6e60",
      "824983d8d14f4f61b19e7a820936c815",
      "9ddf0ee48bc240508722b843247b97c2",
      "67e4691a2d834896b7eb2ff58733905a",
      "7a21cd11a5af4388a8cd77a42d73e790",
      "59ca801f6234464198a251d149630260",
      "92d237b6aa1540eb95c1b840bf99c5f6",
      "9df098ec08de42c0a261d2d9ec395412",
      "545223976704484294800dd466bbf967",
      "d8e4215dc52a494a8b55a3fd487cfe7a"
     ]
    },
    "id": "xMiwR7ldxLwC",
    "outputId": "13226229-c54e-43bd-a102-76de7f39670e"
   },
   "outputs": [],
   "source": [
    "# Load the Legal-BERT tokenizer.\n",
    "print('Loading Legal-BERT tokenizer...')\n",
    "tokenizer = BertTokenizer.from_pretrained(MODEL_NAME, do_lower_case=True) # the model 'bert-base-uncased' only contains lower case sentences"
   ]
  },
  {
   "cell_type": "code",
   "execution_count": null,
   "metadata": {
    "colab": {
     "base_uri": "https://localhost:8080/",
     "height": 1000,
     "referenced_widgets": [
      "f1b362c151ff4a4cadb4821620792ea3",
      "64a41df3dc704575a5a16235067acfbb",
      "dc22bf2f10634e6d9e25340130c35365",
      "3f99646e1e91499984ea535e47aa91a2",
      "c8919bee80d44954929fe5ecf20bd387",
      "ae35f20345ae40bbb15bb63f54677b9e",
      "72eec1287dfa49ef84d7f7b8a6084be1",
      "37cb329ac70a4c70b8f154a28f0732b7",
      "d2d9f15118a24cd9a26f0869cbc5a60d",
      "9cac9e374b324b7d99281c2b787b8ac5",
      "7d55b4e30cbe439b9b9474ce4591d242"
     ]
    },
    "id": "iKVJMtM09lh5",
    "outputId": "648db1a3-9783-4c13-eb7b-e68378793835"
   },
   "outputs": [],
   "source": [
    "model = BertForSequenceClassification.from_pretrained(\n",
    "    MODEL_NAME,\n",
    "    num_labels = NUM_CLASSES,\n",
    "    output_attentions = False,\n",
    "    output_hidden_states = False,\n",
    ")\n",
    "\n",
    "model.cuda()"
   ]
  },
  {
   "cell_type": "markdown",
   "metadata": {
    "id": "JpohQx5xyqwh"
   },
   "source": [
    "### Model BertForSequenceClassification (Load model)"
   ]
  },
  {
   "cell_type": "markdown",
   "metadata": {
    "id": "6lnmJOOVQW0T"
   },
   "source": [
    "#### You can reach Legal Bert weights from: https://drive.google.com/file/d/10LaTUjut-Hus6HlP8iaWdtITv0MguIgl/view?usp=sharing"
   ]
  },
  {
   "cell_type": "code",
   "execution_count": null,
   "metadata": {
    "colab": {
     "base_uri": "https://localhost:8080/"
    },
    "id": "Q-aGx3Q60e4w",
    "outputId": "5cf3974c-4a30-4cfc-e887-172ca4d0f1a7"
   },
   "outputs": [],
   "source": [
    "model.load_state_dict(torch.load('/content/drive/MyDrive/Colab Notebooks/praktikum2/weights/legalSeqBertFineTuned_Claudette_%93_acc.pt'))"
   ]
  },
  {
   "cell_type": "markdown",
   "metadata": {
    "id": "JIyze6jK2bpQ"
   },
   "source": [
    "### Trigger generation"
   ]
  },
  {
   "cell_type": "markdown",
   "metadata": {
    "id": "mLTLH3AJ5-Lw"
   },
   "source": [
    "##### General functions"
   ]
  },
  {
   "cell_type": "code",
   "execution_count": null,
   "metadata": {
    "id": "8JjcRhGE6hUc"
   },
   "outputs": [],
   "source": [
    "# hook used in add_hooks()\n",
    "extracted_grads = []\n",
    "def extract_grad_hook(module, grad_in, grad_out):\n",
    "    extracted_grads.append(grad_out[0])"
   ]
  },
  {
   "cell_type": "code",
   "execution_count": null,
   "metadata": {
    "id": "1MV3isar2dvF"
   },
   "outputs": [],
   "source": [
    "# returns the wordpiece embedding weight matrix\n",
    "def get_embedding_weight(language_model):\n",
    "    for module in language_model.modules():\n",
    "        if isinstance(module, torch.nn.Embedding):\n",
    "            if module.weight.shape[0] == 30522:\n",
    "                return module.weight.detach()"
   ]
  },
  {
   "cell_type": "code",
   "execution_count": null,
   "metadata": {
    "id": "ymN2vLUT6Oe5"
   },
   "outputs": [],
   "source": [
    "# add hooks for embeddings\n",
    "def add_hooks(language_model):\n",
    "    for module in language_model.modules():\n",
    "        if isinstance(module, torch.nn.Embedding):\n",
    "            if module.weight.shape[0] == 30522:\n",
    "                module.weight.requires_grad = True\n",
    "                module.register_full_backward_hook(extract_grad_hook)"
   ]
  },
  {
   "cell_type": "code",
   "execution_count": null,
   "metadata": {
    "id": "73ZQsJW_6z3h"
   },
   "outputs": [],
   "source": [
    "# creates the batch of target texts with -1 placed at the end of the sequences for padding (for masking out the loss).\n",
    "def make_target_batch(tokenizer, device, target_texts):\n",
    "    encoded_texts = []\n",
    "    max_len = 0\n",
    "    for target_text in target_texts:\n",
    "        encoded_target_text = tokenizer.encode_plus(\n",
    "            target_text,\n",
    "            add_special_tokens = True,\n",
    "            max_length = EMBEDDING_SIZE - NUM_TOKENS,\n",
    "            pad_to_max_length = True,\n",
    "            return_attention_mask = True\n",
    "        )\n",
    "        encoded_texts.append(encoded_target_text.input_ids)\n",
    "        if len(encoded_target_text.input_ids) > max_len:\n",
    "            max_len = len(encoded_target_text)\n",
    "\n",
    "    for indx, encoded_text in enumerate(encoded_texts):\n",
    "        if len(encoded_text) < max_len:\n",
    "            encoded_texts[indx].extend([-1] * (max_len - len(encoded_text)))\n",
    "\n",
    "    target_tokens_batch = None\n",
    "    for encoded_text in encoded_texts:\n",
    "        target_tokens = torch.tensor(encoded_text, device=device, dtype=torch.long).unsqueeze(0)\n",
    "        if target_tokens_batch is None:\n",
    "            target_tokens_batch = target_tokens\n",
    "        else:\n",
    "            target_tokens_batch = torch.cat((target_tokens, target_tokens_batch), dim=0)\n",
    "    return target_tokens_batch"
   ]
  },
  {
   "cell_type": "code",
   "execution_count": null,
   "metadata": {
    "id": "DQ0ZcgVCCHmY"
   },
   "outputs": [],
   "source": [
    "# Got from https://github.com/Eric-Wallace/universal-triggers/blob/master/attacks.py\n",
    "\n",
    "def hotflip_attack(averaged_grad, embedding_matrix, trigger_token_ids,\n",
    "                   increase_loss=False, num_candidates=1):\n",
    "    \"\"\"\n",
    "    The \"Hotflip\" attack described in Equation (2) of the paper. This code is heavily inspired by\n",
    "    the nice code of Paul Michel here https://github.com/pmichel31415/translate/blob/paul/\n",
    "    pytorch_translate/research/adversarial/adversaries/brute_force_adversary.py\n",
    "    This function takes in the model's average_grad over a batch of examples, the model's\n",
    "    token embedding matrix, and the current trigger token IDs. It returns the top token\n",
    "    candidates for each position.\n",
    "    If increase_loss=True, then the attack reverses the sign of the gradient and tries to increase\n",
    "    the loss (decrease the model's probability of the true class). For targeted attacks, you want\n",
    "    to decrease the loss of the target class (increase_loss=False).\n",
    "    \"\"\"\n",
    "    averaged_grad = averaged_grad.cpu()\n",
    "    embedding_matrix = embedding_matrix.cpu()\n",
    "    trigger_token_embeds = torch.nn.functional.embedding(torch.LongTensor(trigger_token_ids),\n",
    "                                                         embedding_matrix).detach().unsqueeze(0)\n",
    "    averaged_grad = averaged_grad.unsqueeze(0)\n",
    "    gradient_dot_embedding_matrix = torch.einsum(\"bij,kj->bik\",\n",
    "                                                 (averaged_grad, embedding_matrix))        \n",
    "    if not increase_loss:\n",
    "        gradient_dot_embedding_matrix *= -1    \n",
    "    if num_candidates > 1: \n",
    "        _, best_k_ids = torch.topk(gradient_dot_embedding_matrix, num_candidates, dim=2)\n",
    "        return best_k_ids.detach().cpu().numpy()[0]\n",
    "    _, best_at_each_step = gradient_dot_embedding_matrix.max(2)\n",
    "    return best_at_each_step[0].detach().cpu().numpy()"
   ]
  },
  {
   "cell_type": "code",
   "execution_count": null,
   "metadata": {
    "id": "V1f73Q-4xp59"
   },
   "outputs": [],
   "source": [
    "def tokenize_sentence(sentence, add_special_tokens=True):\n",
    "    \n",
    "    encoded_dict = tokenizer.encode_plus(\n",
    "                        sentence,\n",
    "                        add_special_tokens = True,\n",
    "                        max_length = EMBEDDING_SIZE,\n",
    "                        pad_to_max_length = True,\n",
    "                        return_attention_mask = True,\n",
    "                        return_tensors = 'pt',\n",
    "                   )\n",
    "    \n",
    "    return encoded_dict['input_ids'], encoded_dict['attention_mask']\n",
    "\n",
    "\n",
    "def decode_encode(input_id_sent):\n",
    "    \n",
    "    number_of_tokens = count_tokens(input_id_sent)\n",
    "    sent = input_id_sent[1:number_of_tokens-1]\n",
    "    decoded = tokenizer.decode(sent, add_special_tokens=False)\n",
    "    input_id, attention_mask = tokenize_sentence(decoded)\n",
    "    \n",
    "    return input_id, attention_mask\n",
    "\n",
    "\n",
    "def count_tokens(input_ids):\n",
    "    \n",
    "    number_of_tokens = 0  \n",
    "        \n",
    "    for idx in range(len(input_ids)):\n",
    "        \n",
    "        if input_ids[idx] != 0:\n",
    "            number_of_tokens += 1\n",
    "        \n",
    "    return number_of_tokens"
   ]
  },
  {
   "cell_type": "code",
   "execution_count": null,
   "metadata": {
    "id": "lV7lkCZP731g"
   },
   "outputs": [],
   "source": [
    "def get_input_masks_and_labels_with_tokens(sentences, labels, tokens, position='B'):\n",
    "    input_ids = []\n",
    "    attention_masks = []\n",
    "    number_of_tokens = []\n",
    "\n",
    "    for sent in sentences:\n",
    "\n",
    "        if position == 'B':\n",
    "            \n",
    "            sent_with_tokens = tokens + \" \" + sent\n",
    "            \n",
    "            input_id, attention_mask = tokenize_sentence(sent_with_tokens)\n",
    "            input_ids.append(input_id)\n",
    "            attention_masks.append(attention_mask)\n",
    "            \n",
    "        elif position == 'E':\n",
    "            \n",
    "            sent_with_tokens = sent + \" \" + tokens\n",
    "            \n",
    "            input_id, attention_mask = tokenize_sentence(sent_with_tokens)\n",
    "            input_ids.append(input_id)\n",
    "            attention_masks.append(attention_mask)\n",
    "            \n",
    "        else: # position given as index\n",
    "            \n",
    "            input_id_sent, _ = tokenize_sentence(sent)\n",
    "            input_id_token, _ = tokenize_sentence(tokens)\n",
    "            \n",
    "            token_id = input_id_token[0][1:1+NUM_TOKENS]\n",
    "                        \n",
    "            position = int(position)\n",
    "            \n",
    "            number_of_tokens_sec_part = count_tokens(input_id_sent[0][position+1:])\n",
    "            \n",
    "            sec_part_sent_ids = input_id_sent[0][position+1:position+number_of_tokens_sec_part+1]\n",
    "            sec_part_sent_ids = sec_part_sent_ids[:number_of_tokens_sec_part].clone()\n",
    "\n",
    "            ## place the token ids ##\n",
    "            if position+NUM_TOKENS+1 <= EMBEDDING_SIZE: # if token placement does not intersect with end of special token\n",
    "                \n",
    "                input_id_sent[0][position+1:position+NUM_TOKENS+1] = token_id\n",
    "                end_idx = position+NUM_TOKENS+number_of_tokens_sec_part+1\n",
    "\n",
    "                if end_idx > EMBEDDING_SIZE: # index out of range\n",
    "                    \n",
    "                    margin = end_idx - EMBEDDING_SIZE\n",
    "                    input_id_sent[0][position+NUM_TOKENS+1:EMBEDDING_SIZE] = sec_part_sent_ids[:-margin]\n",
    "                    input_id_sent[0][-1] = 102\n",
    "                    \n",
    "                else:\n",
    "                    input_id_sent[0][position+NUM_TOKENS+1:end_idx] = sec_part_sent_ids \n",
    "                    \n",
    "                input_id, attention_mask = decode_encode(input_id_sent[0])\n",
    "                input_ids.append(input_id)\n",
    "                attention_masks.append(attention_mask)\n",
    "                        \n",
    "            else: # apply end of sentence operation\n",
    "                \n",
    "                new_position = EMBEDDING_SIZE - NUM_TOKENS -1\n",
    "\n",
    "                input_id_sent[0][new_position:-1] = token_id\n",
    "                input_id_sent[0][-1] = 102\n",
    "                \n",
    "                input_id, attention_mask = decode_encode(input_id_sent[0])\n",
    "                input_ids.append(input_id)\n",
    "                attention_masks.append(attention_mask)\n",
    "\n",
    "                \n",
    "    input_ids = torch.cat(input_ids, dim=0)\n",
    "    attention_masks = torch.cat(attention_masks, dim=0)\n",
    "    labels = torch.tensor(labels)\n",
    "\n",
    "    # count number of tokens of each sentence\n",
    "    for idx in range(len(input_ids)):\n",
    "        sent_ids = input_ids[idx, :]\n",
    "\n",
    "        cnt = 0\n",
    "        for id_ in sent_ids:\n",
    "            if id_ != 0:\n",
    "                cnt += 1\n",
    "\n",
    "        number_of_tokens.append(cnt)\n",
    "    \n",
    "    return input_ids, attention_masks, labels, number_of_tokens"
   ]
  },
  {
   "cell_type": "code",
   "execution_count": null,
   "metadata": {
    "id": "myWBJ3tc-XCR"
   },
   "outputs": [],
   "source": [
    "def get_loss_and_metrics(model, dataloader, device, train_mode=True):\n",
    "    # get initial loss for the trigger\n",
    "    #if train_mode:\n",
    "    model.zero_grad()\n",
    "    #else:\n",
    "    #    model.eval()\n",
    "\n",
    "    test_preds = []\n",
    "    test_targets = []\n",
    "\n",
    "    # Tracking variables \n",
    "    total_test_accuracy = 0\n",
    "    total_test_loss = 0\n",
    "    io_total_test_acc = 0\n",
    "    io_total_test_prec = 0\n",
    "    io_total_test_recall = 0\n",
    "    io_total_test_f1 = 0\n",
    "\n",
    "    for batch in dataloader:\n",
    "        b_input_ids = batch[0].to(device)\n",
    "        b_input_mask = batch[1].to(device)\n",
    "        b_labels = batch[2].to(device)\n",
    "\n",
    "        #model.zero_grad()\n",
    "\n",
    "        result = model(b_input_ids, \n",
    "                    token_type_ids=None, \n",
    "                    attention_mask=b_input_mask, \n",
    "                    labels=b_labels,\n",
    "                    return_dict=True)\n",
    "\n",
    "        loss = result.loss\n",
    "        logits = result.logits\n",
    "\n",
    "        test_preds.extend(logits.argmax(dim=1).cpu().numpy())\n",
    "        test_targets.extend(batch[2].numpy())\n",
    "\n",
    "        # Accumulate the validation loss.\n",
    "        total_test_loss += loss.item()\n",
    "\n",
    "        test_preds.extend(logits.argmax(dim=1).cpu().numpy())\n",
    "        test_targets.extend(batch[2].numpy())\n",
    "\n",
    "        # Move logits and labels to CPU\n",
    "        logits = logits.detach().cpu().numpy()\n",
    "        label_ids = b_labels.to('cpu').numpy()\n",
    "\n",
    "        #if train_mode:\n",
    "        loss.backward()        \n",
    "\n",
    "        # Calculate the accuracy for this batch of test sentences, and\n",
    "        # accumulate it over all batches.        \n",
    "        test_acc = accuracy_score(test_targets, test_preds)\n",
    "        test_precision = precision_score(test_targets, test_preds)\n",
    "        test_recall = recall_score(test_targets, test_preds)\n",
    "        test_f1 = f1_score(test_targets, test_preds)\n",
    "\n",
    "        io_total_test_acc += test_acc\n",
    "        io_total_test_prec += test_precision\n",
    "        io_total_test_recall += test_recall\n",
    "        io_total_test_f1 += test_f1\n",
    "\n",
    "    io_avg_test_loss = total_test_loss/len(dataloader)\n",
    "    io_avg_test_acc = io_total_test_acc / len(dataloader)\n",
    "    io_avg_test_prec = io_total_test_prec / len(dataloader)\n",
    "    io_avg_test_recall = io_total_test_recall / len(dataloader)\n",
    "    io_avg_test_f1 = io_total_test_f1 / len(dataloader)\n",
    "\n",
    "    if train_mode:\n",
    "      print(\n",
    "              f'Loss {io_avg_test_loss} : \\t\\\n",
    "              Train_acc : {io_avg_test_acc}\\t\\\n",
    "              Train_F1 : {io_avg_test_f1}\\t\\\n",
    "              Train_precision : {io_avg_test_prec}\\t\\\n",
    "              Train_recall : {io_avg_test_recall}'\n",
    "            )\n",
    "    \"\"\"\n",
    "    else:\n",
    "      print(\n",
    "              f'Loss {io_avg_test_loss} : \\t\\\n",
    "              Valid_acc : {io_avg_test_acc}\\t\\\n",
    "              Valid_F1 : {io_avg_test_f1}\\t\\\n",
    "              Valid_precision : {io_avg_test_prec}\\t\\\n",
    "              Valid_recall : {io_avg_test_recall}'\n",
    "            )\n",
    "    \"\"\"\n",
    "    return io_avg_test_loss, io_avg_test_acc, io_avg_test_prec, io_avg_test_recall, io_avg_test_f1"
   ]
  },
  {
   "cell_type": "code",
   "execution_count": null,
   "metadata": {
    "id": "o-ZoFvcJXsH5"
   },
   "outputs": [],
   "source": [
    "def change_input_ids_with_candidate_token(input_ids, position, candidate, number_of_tokens, trigger_position='B'):\n",
    "    if trigger_position == 'B':\n",
    "        input_ids[:, position] = candidate\n",
    "        \n",
    "    elif trigger_position == 'E':\n",
    "      \n",
    "        for idx in range(len(input_ids)):\n",
    "\n",
    "            if number_of_tokens[idx] > EMBEDDING_SIZE:\n",
    "                input_ids[idx, EMBEDDING_SIZE-NUM_TOKENS-2+position] = candidate\n",
    "            else:\n",
    "                input_ids[idx, number_of_tokens[idx]-NUM_TOKENS-2+position] = candidate\n",
    "                \n",
    "    else: # position is given as index\n",
    "        token_pos = int(trigger_position)\n",
    "        input_ids[:, token_pos+position-1] = candidate\n",
    "        \n",
    "    return input_ids"
   ]
  },
  {
   "cell_type": "code",
   "execution_count": null,
   "metadata": {
    "id": "NfnLkgMPgMui"
   },
   "outputs": [],
   "source": [
    "def flat_accuracy(preds, labels):\n",
    "    pred_flat = np.argmax(preds, axis=1).flatten()\n",
    "    labels_flat = labels.flatten()\n",
    "    return np.sum(pred_flat == labels_flat) / len(labels_flat)"
   ]
  },
  {
   "cell_type": "code",
   "execution_count": null,
   "metadata": {
    "colab": {
     "base_uri": "https://localhost:8080/"
    },
    "id": "cr3D9l6q8CD5",
    "outputId": "75918a72-619f-4981-f847-9ddb5e8bac65"
   },
   "outputs": [],
   "source": [
    "######################## TRAIN DATASET ###########################\n",
    "positions_unfair_train = np.where(np.array(train_y) == 1)[0]\n",
    "print(f'First 32 positions: {positions_unfair_train[0:32]} with total of unfair sentences {len(positions_unfair_train)}')\n",
    "\n",
    "target_unfair_sentences_train = []\n",
    "labels_unfair_sentences_train = []\n",
    "for index in range(len(positions_unfair_train)):\n",
    "    target_unfair_sentences_train.append(train_x[positions_unfair_train[index]])\n",
    "    labels_unfair_sentences_train.append(train_y[positions_unfair_train[index]])\n",
    "\n",
    "\n",
    "######################## VALIDATION DATASET ###########################\n",
    "positions_unfair_val = np.where(np.array(val_y) == 1)[0]\n",
    "print(f'First 32 positions: {positions_unfair_val[0:32]} with total of unfair sentences {len(positions_unfair_val)}')\n",
    "\n",
    "target_unfair_sentences_val = []\n",
    "labels_unfair_sentences_val = []\n",
    "\n",
    "for index in range(len(positions_unfair_val)):\n",
    "    target_unfair_sentences_val.append(val_x[positions_unfair_val[index]])\n",
    "    labels_unfair_sentences_val.append(val_y[positions_unfair_val[index]])"
   ]
  },
  {
   "cell_type": "code",
   "execution_count": null,
   "metadata": {
    "id": "Q9b_Vpns66cA"
   },
   "outputs": [],
   "source": [
    "model.eval()\n",
    "model.to(device)\n",
    "\n",
    "add_hooks(model) # add gradient hooks to embeddings\n",
    "embedding_weight = get_embedding_weight(model) # save the word embedding matrix"
   ]
  },
  {
   "cell_type": "code",
   "execution_count": null,
   "metadata": {
    "colab": {
     "base_uri": "https://localhost:8080/"
    },
    "id": "4ehTzLUbBEzW",
    "outputId": "f6d0e524-484b-4369-98b5-53caede1a18a"
   },
   "outputs": [],
   "source": [
    "trigger_tokens = np.array([207]*NUM_TOKENS)\n",
    "print(tokenizer.decode(trigger_tokens))"
   ]
  },
  {
   "cell_type": "code",
   "execution_count": null,
   "metadata": {
    "colab": {
     "base_uri": "https://localhost:8080/"
    },
    "id": "LuqGPIZ9bsM4",
    "outputId": "1be92062-aab8-42be-f0f5-b1e0a4d2e297"
   },
   "outputs": [],
   "source": [
    "position = 'E'\n",
    "#position = 'B'\n",
    "#position = '3'\n",
    "\n",
    "##################### TRAIN DATALOADER #############################\n",
    "train_input_ids, train_attention_masks, train_labels, train_number_of_tokens = get_input_masks_and_labels_with_tokens(target_unfair_sentences_train, labels_unfair_sentences_train, tokenizer.decode(trigger_tokens), position=position)\n",
    "train_dataset = TensorDataset(train_input_ids, train_attention_masks, train_labels)\n",
    "train_dataloader = torch.utils.data.DataLoader(train_dataset, batch_size=BATCH_SIZE)\n",
    "\n",
    "##################### VAL DATALOADER #############################\n",
    "val_input_ids, val_attention_masks, val_labels, val_number_of_tokens = get_input_masks_and_labels_with_tokens(target_unfair_sentences_val, labels_unfair_sentences_val, tokenizer.decode(trigger_tokens), position=position)\n",
    "val_dataset = TensorDataset(val_input_ids, val_attention_masks, val_labels)\n",
    "val_dataloader = torch.utils.data.DataLoader(val_dataset, batch_size=BATCH_SIZE)"
   ]
  },
  {
   "cell_type": "code",
   "execution_count": null,
   "metadata": {
    "id": "p_kyGpIIFovx"
   },
   "outputs": [],
   "source": []
  },
  {
   "cell_type": "code",
   "execution_count": null,
   "metadata": {
    "colab": {
     "base_uri": "https://localhost:8080/"
    },
    "id": "o_xZhL_Q-qnT",
    "outputId": "e20cb107-9cca-4fe6-98a1-4f8e29a783f5"
   },
   "outputs": [],
   "source": [
    "extracted_grads = []\n",
    "\n",
    "train_loss_obtained, train_acc_obtained, train_prec_obtained, train_recall_obtained, train_f1_obtained = get_loss_and_metrics(model, train_dataloader, device, train_mode=True)\n",
    "\n",
    "print(f'train loss_obtained {train_loss_obtained}')\n",
    "\n",
    "candidates_selected = [0]*NUM_TOKENS\n",
    "# try all the candidates and pick the best\n",
    "curr_best_train_loss = train_loss_obtained\n",
    "curr_best_trigger_tokens = None\n",
    "\n",
    "train_loss_list = []\n",
    "train_acc_list = []\n",
    "train_prec_list = []\n",
    "train_recall_list = []\n",
    "train_f1_list = []\n",
    "\n",
    "val_loss_list = []\n",
    "val_acc_list = []\n",
    "val_prec_list = []\n",
    "val_recall_list = []\n",
    "val_f1_list = []\n",
    "\n",
    "for id_token_to_flip in range(0, NUM_TOKENS):\n",
    "\n",
    "    averaged_grad = torch.sum(extracted_grads[0], dim=0)\n",
    "    averaged_grad = averaged_grad[id_token_to_flip].unsqueeze(0)\n",
    "\n",
    "    # Use hotflip (linear approximation) attack to get the top num_candidates\n",
    "    candidates = hotflip_attack(averaged_grad, embedding_weight,\n",
    "                                        [trigger_tokens[id_token_to_flip]], \n",
    "                                        increase_loss=False, num_candidates=200)[0]\n",
    "    print(f'candidates {candidates}')\n",
    "    \n",
    "    for index, cand in enumerate(candidates):\n",
    "        extracted_grads = []\n",
    "\n",
    "        if cand in LIST_ID_SPECIAL_TOKENS:\n",
    "          continue\n",
    "\n",
    "        input_ids_with_candidate_trigger = change_input_ids_with_candidate_token(deepcopy(train_input_ids), id_token_to_flip+1, cand, train_number_of_tokens, trigger_position=position)\n",
    "        dataset_with_candidate_trigger = TensorDataset(input_ids_with_candidate_trigger, train_attention_masks, train_labels)\n",
    "        dataloader_with_candidate_trigger = torch.utils.data.DataLoader(dataset_with_candidate_trigger, batch_size=BATCH_SIZE)\n",
    "\n",
    "        current_loss_train, current_acc_train, current_prec_train, current_recall_train, current_f1_train = get_loss_and_metrics(model, dataloader_with_candidate_trigger, device, train_mode=True)\n",
    "\n",
    "\n",
    "        if curr_best_train_loss < current_loss_train:\n",
    "          \n",
    "            train_loss_list.append(current_loss_train)\n",
    "            train_acc_list.append(current_acc_train)\n",
    "            train_prec_list.append(current_prec_train)\n",
    "            train_recall_list.append(current_recall_train)\n",
    "            train_f1_list.append(current_f1_train)\n",
    "\n",
    "            curr_best_train_loss = current_loss_train\n",
    "            candidates_selected[id_token_to_flip] = cand\n",
    "\n",
    "            ######### VALIDATION ##########\n",
    "            \n",
    "            input_ids_with_candidate_trigger = change_input_ids_with_candidate_token(deepcopy(val_input_ids), id_token_to_flip+1, cand, val_number_of_tokens, trigger_position=position)\n",
    "            dataset_with_candidate_trigger = TensorDataset(input_ids_with_candidate_trigger, val_attention_masks, val_labels)\n",
    "            dataloader_with_candidate_trigger = torch.utils.data.DataLoader(dataset_with_candidate_trigger, batch_size=BATCH_SIZE)\n",
    "\n",
    "            current_loss_val, current_acc_val, current_prec_val, current_recall_val, current_f1_val = get_loss_and_metrics(model, dataloader_with_candidate_trigger, device, train_mode=False)\n",
    "\n",
    "            val_loss_list.append(current_loss_val)\n",
    "            val_acc_list.append(current_acc_val)\n",
    "            val_prec_list.append(current_prec_val)\n",
    "            val_recall_list.append(current_recall_val)\n",
    "            val_f1_list.append(current_f1_val)\n",
    "            \n",
    "\n",
    "        del input_ids_with_candidate_trigger\n",
    "        del dataset_with_candidate_trigger\n",
    "        del dataloader_with_candidate_trigger\n",
    "\n",
    "        gc.collect()\n",
    "        torch.cuda.empty_cache()\n",
    "\n",
    "        print(f'[{id_token_to_flip}][{index}] loss[{index}] {current_loss_train} ({curr_best_train_loss})')\n",
    "\n",
    "    print(f'Worst Train Loss {curr_best_train_loss} with candidates {candidates_selected}')\n",
    "    print(f'Worst Validation Loss {current_loss_val} with candidates {candidates_selected}')\n",
    "\n",
    "    train_input_ids = change_input_ids_with_candidate_token(deepcopy(train_input_ids), id_token_to_flip+1, candidates_selected[id_token_to_flip], train_number_of_tokens, trigger_position=position)"
   ]
  },
  {
   "cell_type": "code",
   "execution_count": null,
   "metadata": {
    "id": "pdhC5LNWQk_x"
   },
   "outputs": [],
   "source": [
    "#print(tokenizer.encode(\"the the the\")) #[101, 207, 207, 207, 102]\n",
    "#print(tokenizer.decode([621, 13890, 21241, 23113, 221, 1898]))# Loss => unless communist normativ encroachments as anything\n",
    "#print(tokenizer.decode([621, 13890, 13064, 1897, 1629, 29403]))# Accuracy => unless communist tolerate political dismissed disjunctive\n",
    "#print(tokenizer.decode([621, 13890, 13064, 1897, 1629, 22121]))# F1 => unless communist tolerate political dismissed symmetrical"
   ]
  },
  {
   "cell_type": "code",
   "execution_count": null,
   "metadata": {
    "colab": {
     "base_uri": "https://localhost:8080/"
    },
    "id": "aH6wopP2yekA",
    "outputId": "3eee43fe-ad16-495d-b9d9-ac6b9d68b7df"
   },
   "outputs": [],
   "source": [
    "print(tokenizer.decode([14850, 23695, 3176, 13817, 21633, 514])) # Loss => retrospectively determinant history analyzing capitation closing"
   ]
  },
  {
   "cell_type": "code",
   "execution_count": null,
   "metadata": {
    "colab": {
     "base_uri": "https://localhost:8080/"
    },
    "id": "FkINmCZbjUA1",
    "outputId": "78ad577d-d9ad-4bad-8e95-a4d6616f1de8"
   },
   "outputs": [],
   "source": [
    "print(tokenizer.decode([14850, 23695, 3176, 13817, 21633, 514])) # Loss => retrospectively determinant history analyzing capitation closing\n",
    "#14850, 23695, 3176, 13817, 21633, 514"
   ]
  },
  {
   "cell_type": "code",
   "execution_count": null,
   "metadata": {
    "colab": {
     "base_uri": "https://localhost:8080/"
    },
    "id": "dvnlEUiwC5bW",
    "outputId": "f6b4ee6a-4d46-4d0a-ca74-05f826fe5bcf"
   },
   "outputs": [],
   "source": [
    "print(tokenizer.decode([1297, 17560, 12674, 1158, 7691, 3284]))"
   ]
  },
  {
   "cell_type": "markdown",
   "metadata": {
    "id": "1rHl689qxwHd"
   },
   "source": [
    "## Test BERT model with tokens"
   ]
  },
  {
   "cell_type": "code",
   "execution_count": null,
   "metadata": {
    "id": "t_sOu9w4xx-m"
   },
   "outputs": [],
   "source": [
    "test_sentences = test_x.copy()\n",
    "test_labels = test_y.copy()"
   ]
  },
  {
   "cell_type": "code",
   "execution_count": null,
   "metadata": {
    "id": "ZNKflR1eow0k"
   },
   "outputs": [],
   "source": [
    "token_6 = \"assume defense differentiati failure combating  advocate\"\n",
    "position = \"E\""
   ]
  },
  {
   "cell_type": "code",
   "execution_count": null,
   "metadata": {
    "colab": {
     "base_uri": "https://localhost:8080/"
    },
    "id": "lDr8--Dj155v",
    "outputId": "73feda55-27ba-49d4-c6f5-f5d466c458ba"
   },
   "outputs": [],
   "source": [
    "input_ids, attention_masks, labels, _ = get_input_masks_and_labels_with_tokens(test_sentences, test_labels, token_6, position)"
   ]
  },
  {
   "cell_type": "code",
   "execution_count": null,
   "metadata": {
    "colab": {
     "base_uri": "https://localhost:8080/"
    },
    "id": "9N8lORVtosK6",
    "outputId": "3cda5e7f-5df8-4bd6-b98e-d99f46ad551c"
   },
   "outputs": [],
   "source": [
    "# create test tensors\n",
    "prediction_inputs = torch.tensor(input_ids)\n",
    "prediction_masks = torch.tensor(attention_masks)\n",
    "prediction_labels = torch.tensor(labels)\n",
    "batch_size = 32  \n",
    "prediction_data = TensorDataset(prediction_inputs, prediction_masks, prediction_labels)\n",
    "prediction_sampler = SequentialSampler(prediction_data)\n",
    "prediction_dataloader = DataLoader(prediction_data, sampler=prediction_sampler, batch_size=batch_size)"
   ]
  },
  {
   "cell_type": "code",
   "execution_count": null,
   "metadata": {
    "id": "QelPsoswosNs"
   },
   "outputs": [],
   "source": [
    "## Prediction on test set\n",
    "# Put model in evaluation mode\n",
    "model.eval()\n",
    "# Tracking variables \n",
    "predictions , true_labels = [], []\n",
    "# Predict \n",
    "for batch in prediction_dataloader:\n",
    "    # Add batch to GPU\n",
    "    batch = tuple(t.to(device) for t in batch)\n",
    "    # Unpack the inputs from our dataloader\n",
    "    b_input_ids, b_input_mask, b_labels = batch\n",
    "    # Telling the model not to compute or store gradients, saving memory and speeding up prediction\n",
    "    with torch.no_grad():\n",
    "      # Forward pass, calculate logit predictions\n",
    "      logits = model(b_input_ids, token_type_ids=None, attention_mask=b_input_mask)\n",
    "    # Move logits and labels to CPU\n",
    "    #print(\"logits: \", logits[0])\n",
    "    logits = logits[0].detach().cpu().numpy()\n",
    "    label_ids = b_labels.to('cpu').numpy()  \n",
    "    # Store predictions and true labels\n",
    "    predictions += list(np.argmax(logits, axis=1).flatten())\n",
    "    true_labels += list(label_ids)"
   ]
  },
  {
   "cell_type": "code",
   "execution_count": null,
   "metadata": {
    "colab": {
     "base_uri": "https://localhost:8080/",
     "height": 621
    },
    "id": "-VswDvDFosPm",
    "outputId": "29388c74-8142-4752-ce6a-a40085b1f8d2"
   },
   "outputs": [],
   "source": [
    "from sklearn.metrics import confusion_matrix, accuracy_score, classification_report\n",
    "import seaborn as sns\n",
    "import matplotlib.pyplot as plt\n",
    "\n",
    "fig, ax = plt.subplots(figsize=(10,10)) \n",
    "conf_matrix = confusion_matrix(y_true=true_labels, y_pred=predictions)\n",
    "sns.heatmap(conf_matrix, annot=True, fmt='g', ax=ax);  #annot=True to annotate cells, ftm='g' to disable scientific notation\n",
    "\n",
    "# labels, title and ticks\n",
    "ax.set_xlabel('Predicted labels');\n",
    "ax.set_ylabel('True labels'); \n",
    "ax.set_title('Confusion Matrix'); \n",
    "ax.xaxis.set_ticklabels(['Fair', 'Unfair']); \n",
    "ax.yaxis.set_ticklabels(['Fair', 'Unfair']);"
   ]
  },
  {
   "cell_type": "code",
   "execution_count": null,
   "metadata": {
    "colab": {
     "base_uri": "https://localhost:8080/"
    },
    "id": "6E7ZdKHGosSG",
    "outputId": "6df3b8e2-3a58-4901-e6a5-a4e2c869cbed"
   },
   "outputs": [],
   "source": [
    "target_names=['Fair', 'Unfair']\n",
    "print(classification_report(true_labels, predictions, target_names=target_names))"
   ]
  },
  {
   "cell_type": "code",
   "execution_count": null,
   "metadata": {
    "id": "DwFqlrxNpFWK"
   },
   "outputs": [],
   "source": []
  },
  {
   "cell_type": "code",
   "execution_count": null,
   "metadata": {
    "id": "UEw9YRG_pFY2"
   },
   "outputs": [],
   "source": []
  },
  {
   "cell_type": "code",
   "execution_count": null,
   "metadata": {
    "id": "YpzFvmWPpFbk"
   },
   "outputs": [],
   "source": []
  },
  {
   "cell_type": "code",
   "execution_count": null,
   "metadata": {
    "id": "Lvhi-MYb1383"
   },
   "outputs": [],
   "source": []
  },
  {
   "cell_type": "code",
   "execution_count": null,
   "metadata": {
    "id": "zj2SUW-kxzMf"
   },
   "outputs": [],
   "source": []
  },
  {
   "cell_type": "code",
   "execution_count": null,
   "metadata": {
    "id": "SFsXRRxstPXp"
   },
   "outputs": [],
   "source": []
  }
 ],
 "metadata": {
  "accelerator": "GPU",
  "colab": {
   "background_execution": "on",
   "collapsed_sections": [],
   "machine_shape": "hm",
   "name": "(Extension)LegalBert4SeqClassif_AdversarialAttack.ipynb",
   "provenance": []
  },
  "gpuClass": "standard",
  "kernelspec": {
   "display_name": "Python 3",
   "language": "python",
   "name": "python3"
  },
  "language_info": {
   "codemirror_mode": {
    "name": "ipython",
    "version": 3
   },
   "file_extension": ".py",
   "mimetype": "text/x-python",
   "name": "python",
   "nbconvert_exporter": "python",
   "pygments_lexer": "ipython3",
   "version": "3.7.9"
  },
  "widgets": {
   "application/vnd.jupyter.widget-state+json": {
    "0a31689288474ae698becfa8ab434309": {
     "model_module": "@jupyter-widgets/base",
     "model_module_version": "1.2.0",
     "model_name": "LayoutModel",
     "state": {
      "_model_module": "@jupyter-widgets/base",
      "_model_module_version": "1.2.0",
      "_model_name": "LayoutModel",
      "_view_count": null,
      "_view_module": "@jupyter-widgets/base",
      "_view_module_version": "1.2.0",
      "_view_name": "LayoutView",
      "align_content": null,
      "align_items": null,
      "align_self": null,
      "border": null,
      "bottom": null,
      "display": null,
      "flex": null,
      "flex_flow": null,
      "grid_area": null,
      "grid_auto_columns": null,
      "grid_auto_flow": null,
      "grid_auto_rows": null,
      "grid_column": null,
      "grid_gap": null,
      "grid_row": null,
      "grid_template_areas": null,
      "grid_template_columns": null,
      "grid_template_rows": null,
      "height": null,
      "justify_content": null,
      "justify_items": null,
      "left": null,
      "margin": null,
      "max_height": null,
      "max_width": null,
      "min_height": null,
      "min_width": null,
      "object_fit": null,
      "object_position": null,
      "order": null,
      "overflow": null,
      "overflow_x": null,
      "overflow_y": null,
      "padding": null,
      "right": null,
      "top": null,
      "visibility": null,
      "width": null
     }
    },
    "1cf954797f9d411f906e7ffbd3efd162": {
     "model_module": "@jupyter-widgets/controls",
     "model_module_version": "1.5.0",
     "model_name": "HTMLModel",
     "state": {
      "_dom_classes": [],
      "_model_module": "@jupyter-widgets/controls",
      "_model_module_version": "1.5.0",
      "_model_name": "HTMLModel",
      "_view_count": null,
      "_view_module": "@jupyter-widgets/controls",
      "_view_module_version": "1.5.0",
      "_view_name": "HTMLView",
      "description": "",
      "description_tooltip": null,
      "layout": "IPY_MODEL_7602065d52b04b9695da3a24a4198a97",
      "placeholder": "​",
      "style": "IPY_MODEL_2b9ff3152d7f4cfe93c1db0aa86eb8b1",
      "value": " 48.0/48.0 [00:00&lt;00:00, 1.39kB/s]"
     }
    },
    "2b9ff3152d7f4cfe93c1db0aa86eb8b1": {
     "model_module": "@jupyter-widgets/controls",
     "model_module_version": "1.5.0",
     "model_name": "DescriptionStyleModel",
     "state": {
      "_model_module": "@jupyter-widgets/controls",
      "_model_module_version": "1.5.0",
      "_model_name": "DescriptionStyleModel",
      "_view_count": null,
      "_view_module": "@jupyter-widgets/base",
      "_view_module_version": "1.2.0",
      "_view_name": "StyleView",
      "description_width": ""
     }
    },
    "37cb329ac70a4c70b8f154a28f0732b7": {
     "model_module": "@jupyter-widgets/base",
     "model_module_version": "1.2.0",
     "model_name": "LayoutModel",
     "state": {
      "_model_module": "@jupyter-widgets/base",
      "_model_module_version": "1.2.0",
      "_model_name": "LayoutModel",
      "_view_count": null,
      "_view_module": "@jupyter-widgets/base",
      "_view_module_version": "1.2.0",
      "_view_name": "LayoutView",
      "align_content": null,
      "align_items": null,
      "align_self": null,
      "border": null,
      "bottom": null,
      "display": null,
      "flex": null,
      "flex_flow": null,
      "grid_area": null,
      "grid_auto_columns": null,
      "grid_auto_flow": null,
      "grid_auto_rows": null,
      "grid_column": null,
      "grid_gap": null,
      "grid_row": null,
      "grid_template_areas": null,
      "grid_template_columns": null,
      "grid_template_rows": null,
      "height": null,
      "justify_content": null,
      "justify_items": null,
      "left": null,
      "margin": null,
      "max_height": null,
      "max_width": null,
      "min_height": null,
      "min_width": null,
      "object_fit": null,
      "object_position": null,
      "order": null,
      "overflow": null,
      "overflow_x": null,
      "overflow_y": null,
      "padding": null,
      "right": null,
      "top": null,
      "visibility": null,
      "width": null
     }
    },
    "3f99646e1e91499984ea535e47aa91a2": {
     "model_module": "@jupyter-widgets/controls",
     "model_module_version": "1.5.0",
     "model_name": "HTMLModel",
     "state": {
      "_dom_classes": [],
      "_model_module": "@jupyter-widgets/controls",
      "_model_module_version": "1.5.0",
      "_model_name": "HTMLModel",
      "_view_count": null,
      "_view_module": "@jupyter-widgets/controls",
      "_view_module_version": "1.5.0",
      "_view_name": "HTMLView",
      "description": "",
      "description_tooltip": null,
      "layout": "IPY_MODEL_9cac9e374b324b7d99281c2b787b8ac5",
      "placeholder": "​",
      "style": "IPY_MODEL_7d55b4e30cbe439b9b9474ce4591d242",
      "value": " 135M/135M [00:03&lt;00:00, 43.0MB/s]"
     }
    },
    "53d957b06be348ae8ec8b4d611980ea4": {
     "model_module": "@jupyter-widgets/controls",
     "model_module_version": "1.5.0",
     "model_name": "HTMLModel",
     "state": {
      "_dom_classes": [],
      "_model_module": "@jupyter-widgets/controls",
      "_model_module_version": "1.5.0",
      "_model_name": "HTMLModel",
      "_view_count": null,
      "_view_module": "@jupyter-widgets/controls",
      "_view_module_version": "1.5.0",
      "_view_name": "HTMLView",
      "description": "",
      "description_tooltip": null,
      "layout": "IPY_MODEL_f5aa4290c024440aab99a6ddefe915a8",
      "placeholder": "​",
      "style": "IPY_MODEL_7be9f137b33d407f97f67e0146c673b2",
      "value": " 217k/217k [00:00&lt;00:00, 2.38MB/s]"
     }
    },
    "545223976704484294800dd466bbf967": {
     "model_module": "@jupyter-widgets/base",
     "model_module_version": "1.2.0",
     "model_name": "LayoutModel",
     "state": {
      "_model_module": "@jupyter-widgets/base",
      "_model_module_version": "1.2.0",
      "_model_name": "LayoutModel",
      "_view_count": null,
      "_view_module": "@jupyter-widgets/base",
      "_view_module_version": "1.2.0",
      "_view_name": "LayoutView",
      "align_content": null,
      "align_items": null,
      "align_self": null,
      "border": null,
      "bottom": null,
      "display": null,
      "flex": null,
      "flex_flow": null,
      "grid_area": null,
      "grid_auto_columns": null,
      "grid_auto_flow": null,
      "grid_auto_rows": null,
      "grid_column": null,
      "grid_gap": null,
      "grid_row": null,
      "grid_template_areas": null,
      "grid_template_columns": null,
      "grid_template_rows": null,
      "height": null,
      "justify_content": null,
      "justify_items": null,
      "left": null,
      "margin": null,
      "max_height": null,
      "max_width": null,
      "min_height": null,
      "min_width": null,
      "object_fit": null,
      "object_position": null,
      "order": null,
      "overflow": null,
      "overflow_x": null,
      "overflow_y": null,
      "padding": null,
      "right": null,
      "top": null,
      "visibility": null,
      "width": null
     }
    },
    "59ca801f6234464198a251d149630260": {
     "model_module": "@jupyter-widgets/controls",
     "model_module_version": "1.5.0",
     "model_name": "DescriptionStyleModel",
     "state": {
      "_model_module": "@jupyter-widgets/controls",
      "_model_module_version": "1.5.0",
      "_model_name": "DescriptionStyleModel",
      "_view_count": null,
      "_view_module": "@jupyter-widgets/base",
      "_view_module_version": "1.2.0",
      "_view_name": "StyleView",
      "description_width": ""
     }
    },
    "64a41df3dc704575a5a16235067acfbb": {
     "model_module": "@jupyter-widgets/controls",
     "model_module_version": "1.5.0",
     "model_name": "HTMLModel",
     "state": {
      "_dom_classes": [],
      "_model_module": "@jupyter-widgets/controls",
      "_model_module_version": "1.5.0",
      "_model_name": "HTMLModel",
      "_view_count": null,
      "_view_module": "@jupyter-widgets/controls",
      "_view_module_version": "1.5.0",
      "_view_name": "HTMLView",
      "description": "",
      "description_tooltip": null,
      "layout": "IPY_MODEL_ae35f20345ae40bbb15bb63f54677b9e",
      "placeholder": "​",
      "style": "IPY_MODEL_72eec1287dfa49ef84d7f7b8a6084be1",
      "value": "Downloading pytorch_model.bin: 100%"
     }
    },
    "67e4691a2d834896b7eb2ff58733905a": {
     "model_module": "@jupyter-widgets/base",
     "model_module_version": "1.2.0",
     "model_name": "LayoutModel",
     "state": {
      "_model_module": "@jupyter-widgets/base",
      "_model_module_version": "1.2.0",
      "_model_name": "LayoutModel",
      "_view_count": null,
      "_view_module": "@jupyter-widgets/base",
      "_view_module_version": "1.2.0",
      "_view_name": "LayoutView",
      "align_content": null,
      "align_items": null,
      "align_self": null,
      "border": null,
      "bottom": null,
      "display": null,
      "flex": null,
      "flex_flow": null,
      "grid_area": null,
      "grid_auto_columns": null,
      "grid_auto_flow": null,
      "grid_auto_rows": null,
      "grid_column": null,
      "grid_gap": null,
      "grid_row": null,
      "grid_template_areas": null,
      "grid_template_columns": null,
      "grid_template_rows": null,
      "height": null,
      "justify_content": null,
      "justify_items": null,
      "left": null,
      "margin": null,
      "max_height": null,
      "max_width": null,
      "min_height": null,
      "min_width": null,
      "object_fit": null,
      "object_position": null,
      "order": null,
      "overflow": null,
      "overflow_x": null,
      "overflow_y": null,
      "padding": null,
      "right": null,
      "top": null,
      "visibility": null,
      "width": null
     }
    },
    "7083f96f1a5443829ae965f0de0d6e60": {
     "model_module": "@jupyter-widgets/controls",
     "model_module_version": "1.5.0",
     "model_name": "HTMLModel",
     "state": {
      "_dom_classes": [],
      "_model_module": "@jupyter-widgets/controls",
      "_model_module_version": "1.5.0",
      "_model_name": "HTMLModel",
      "_view_count": null,
      "_view_module": "@jupyter-widgets/controls",
      "_view_module_version": "1.5.0",
      "_view_name": "HTMLView",
      "description": "",
      "description_tooltip": null,
      "layout": "IPY_MODEL_7a21cd11a5af4388a8cd77a42d73e790",
      "placeholder": "​",
      "style": "IPY_MODEL_59ca801f6234464198a251d149630260",
      "value": "Downloading config.json: 100%"
     }
    },
    "72eec1287dfa49ef84d7f7b8a6084be1": {
     "model_module": "@jupyter-widgets/controls",
     "model_module_version": "1.5.0",
     "model_name": "DescriptionStyleModel",
     "state": {
      "_model_module": "@jupyter-widgets/controls",
      "_model_module_version": "1.5.0",
      "_model_name": "DescriptionStyleModel",
      "_view_count": null,
      "_view_module": "@jupyter-widgets/base",
      "_view_module_version": "1.2.0",
      "_view_name": "StyleView",
      "description_width": ""
     }
    },
    "7602065d52b04b9695da3a24a4198a97": {
     "model_module": "@jupyter-widgets/base",
     "model_module_version": "1.2.0",
     "model_name": "LayoutModel",
     "state": {
      "_model_module": "@jupyter-widgets/base",
      "_model_module_version": "1.2.0",
      "_model_name": "LayoutModel",
      "_view_count": null,
      "_view_module": "@jupyter-widgets/base",
      "_view_module_version": "1.2.0",
      "_view_name": "LayoutView",
      "align_content": null,
      "align_items": null,
      "align_self": null,
      "border": null,
      "bottom": null,
      "display": null,
      "flex": null,
      "flex_flow": null,
      "grid_area": null,
      "grid_auto_columns": null,
      "grid_auto_flow": null,
      "grid_auto_rows": null,
      "grid_column": null,
      "grid_gap": null,
      "grid_row": null,
      "grid_template_areas": null,
      "grid_template_columns": null,
      "grid_template_rows": null,
      "height": null,
      "justify_content": null,
      "justify_items": null,
      "left": null,
      "margin": null,
      "max_height": null,
      "max_width": null,
      "min_height": null,
      "min_width": null,
      "object_fit": null,
      "object_position": null,
      "order": null,
      "overflow": null,
      "overflow_x": null,
      "overflow_y": null,
      "padding": null,
      "right": null,
      "top": null,
      "visibility": null,
      "width": null
     }
    },
    "7a21cd11a5af4388a8cd77a42d73e790": {
     "model_module": "@jupyter-widgets/base",
     "model_module_version": "1.2.0",
     "model_name": "LayoutModel",
     "state": {
      "_model_module": "@jupyter-widgets/base",
      "_model_module_version": "1.2.0",
      "_model_name": "LayoutModel",
      "_view_count": null,
      "_view_module": "@jupyter-widgets/base",
      "_view_module_version": "1.2.0",
      "_view_name": "LayoutView",
      "align_content": null,
      "align_items": null,
      "align_self": null,
      "border": null,
      "bottom": null,
      "display": null,
      "flex": null,
      "flex_flow": null,
      "grid_area": null,
      "grid_auto_columns": null,
      "grid_auto_flow": null,
      "grid_auto_rows": null,
      "grid_column": null,
      "grid_gap": null,
      "grid_row": null,
      "grid_template_areas": null,
      "grid_template_columns": null,
      "grid_template_rows": null,
      "height": null,
      "justify_content": null,
      "justify_items": null,
      "left": null,
      "margin": null,
      "max_height": null,
      "max_width": null,
      "min_height": null,
      "min_width": null,
      "object_fit": null,
      "object_position": null,
      "order": null,
      "overflow": null,
      "overflow_x": null,
      "overflow_y": null,
      "padding": null,
      "right": null,
      "top": null,
      "visibility": null,
      "width": null
     }
    },
    "7be9f137b33d407f97f67e0146c673b2": {
     "model_module": "@jupyter-widgets/controls",
     "model_module_version": "1.5.0",
     "model_name": "DescriptionStyleModel",
     "state": {
      "_model_module": "@jupyter-widgets/controls",
      "_model_module_version": "1.5.0",
      "_model_name": "DescriptionStyleModel",
      "_view_count": null,
      "_view_module": "@jupyter-widgets/base",
      "_view_module_version": "1.2.0",
      "_view_name": "StyleView",
      "description_width": ""
     }
    },
    "7d55b4e30cbe439b9b9474ce4591d242": {
     "model_module": "@jupyter-widgets/controls",
     "model_module_version": "1.5.0",
     "model_name": "DescriptionStyleModel",
     "state": {
      "_model_module": "@jupyter-widgets/controls",
      "_model_module_version": "1.5.0",
      "_model_name": "DescriptionStyleModel",
      "_view_count": null,
      "_view_module": "@jupyter-widgets/base",
      "_view_module_version": "1.2.0",
      "_view_name": "StyleView",
      "description_width": ""
     }
    },
    "824983d8d14f4f61b19e7a820936c815": {
     "model_module": "@jupyter-widgets/controls",
     "model_module_version": "1.5.0",
     "model_name": "FloatProgressModel",
     "state": {
      "_dom_classes": [],
      "_model_module": "@jupyter-widgets/controls",
      "_model_module_version": "1.5.0",
      "_model_name": "FloatProgressModel",
      "_view_count": null,
      "_view_module": "@jupyter-widgets/controls",
      "_view_module_version": "1.5.0",
      "_view_name": "ProgressView",
      "bar_style": "success",
      "description": "",
      "description_tooltip": null,
      "layout": "IPY_MODEL_92d237b6aa1540eb95c1b840bf99c5f6",
      "max": 989,
      "min": 0,
      "orientation": "horizontal",
      "style": "IPY_MODEL_9df098ec08de42c0a261d2d9ec395412",
      "value": 989
     }
    },
    "8ba59f1009b547739009dcb96f6e8d3e": {
     "model_module": "@jupyter-widgets/controls",
     "model_module_version": "1.5.0",
     "model_name": "HBoxModel",
     "state": {
      "_dom_classes": [],
      "_model_module": "@jupyter-widgets/controls",
      "_model_module_version": "1.5.0",
      "_model_name": "HBoxModel",
      "_view_count": null,
      "_view_module": "@jupyter-widgets/controls",
      "_view_module_version": "1.5.0",
      "_view_name": "HBoxView",
      "box_style": "",
      "children": [
       "IPY_MODEL_e5df21c5164b40d887a687b94f95be93",
       "IPY_MODEL_f4c55c946e9847e3a1de5cb156c49534",
       "IPY_MODEL_1cf954797f9d411f906e7ffbd3efd162"
      ],
      "layout": "IPY_MODEL_9a2a73d70d9848718a1daddd01c8217c"
     }
    },
    "92d237b6aa1540eb95c1b840bf99c5f6": {
     "model_module": "@jupyter-widgets/base",
     "model_module_version": "1.2.0",
     "model_name": "LayoutModel",
     "state": {
      "_model_module": "@jupyter-widgets/base",
      "_model_module_version": "1.2.0",
      "_model_name": "LayoutModel",
      "_view_count": null,
      "_view_module": "@jupyter-widgets/base",
      "_view_module_version": "1.2.0",
      "_view_name": "LayoutView",
      "align_content": null,
      "align_items": null,
      "align_self": null,
      "border": null,
      "bottom": null,
      "display": null,
      "flex": null,
      "flex_flow": null,
      "grid_area": null,
      "grid_auto_columns": null,
      "grid_auto_flow": null,
      "grid_auto_rows": null,
      "grid_column": null,
      "grid_gap": null,
      "grid_row": null,
      "grid_template_areas": null,
      "grid_template_columns": null,
      "grid_template_rows": null,
      "height": null,
      "justify_content": null,
      "justify_items": null,
      "left": null,
      "margin": null,
      "max_height": null,
      "max_width": null,
      "min_height": null,
      "min_width": null,
      "object_fit": null,
      "object_position": null,
      "order": null,
      "overflow": null,
      "overflow_x": null,
      "overflow_y": null,
      "padding": null,
      "right": null,
      "top": null,
      "visibility": null,
      "width": null
     }
    },
    "9493f743940344a0b125b5b448e6989a": {
     "model_module": "@jupyter-widgets/controls",
     "model_module_version": "1.5.0",
     "model_name": "HBoxModel",
     "state": {
      "_dom_classes": [],
      "_model_module": "@jupyter-widgets/controls",
      "_model_module_version": "1.5.0",
      "_model_name": "HBoxModel",
      "_view_count": null,
      "_view_module": "@jupyter-widgets/controls",
      "_view_module_version": "1.5.0",
      "_view_name": "HBoxView",
      "box_style": "",
      "children": [
       "IPY_MODEL_dfd7af79ab024f0a8cfd8e4cc01077d8",
       "IPY_MODEL_b0851cbc9bd6471db4591193691157d3",
       "IPY_MODEL_53d957b06be348ae8ec8b4d611980ea4"
      ],
      "layout": "IPY_MODEL_a8e6d9ca608a42729d853c9c3a5f5df7"
     }
    },
    "9a2a73d70d9848718a1daddd01c8217c": {
     "model_module": "@jupyter-widgets/base",
     "model_module_version": "1.2.0",
     "model_name": "LayoutModel",
     "state": {
      "_model_module": "@jupyter-widgets/base",
      "_model_module_version": "1.2.0",
      "_model_name": "LayoutModel",
      "_view_count": null,
      "_view_module": "@jupyter-widgets/base",
      "_view_module_version": "1.2.0",
      "_view_name": "LayoutView",
      "align_content": null,
      "align_items": null,
      "align_self": null,
      "border": null,
      "bottom": null,
      "display": null,
      "flex": null,
      "flex_flow": null,
      "grid_area": null,
      "grid_auto_columns": null,
      "grid_auto_flow": null,
      "grid_auto_rows": null,
      "grid_column": null,
      "grid_gap": null,
      "grid_row": null,
      "grid_template_areas": null,
      "grid_template_columns": null,
      "grid_template_rows": null,
      "height": null,
      "justify_content": null,
      "justify_items": null,
      "left": null,
      "margin": null,
      "max_height": null,
      "max_width": null,
      "min_height": null,
      "min_width": null,
      "object_fit": null,
      "object_position": null,
      "order": null,
      "overflow": null,
      "overflow_x": null,
      "overflow_y": null,
      "padding": null,
      "right": null,
      "top": null,
      "visibility": null,
      "width": null
     }
    },
    "9cac9e374b324b7d99281c2b787b8ac5": {
     "model_module": "@jupyter-widgets/base",
     "model_module_version": "1.2.0",
     "model_name": "LayoutModel",
     "state": {
      "_model_module": "@jupyter-widgets/base",
      "_model_module_version": "1.2.0",
      "_model_name": "LayoutModel",
      "_view_count": null,
      "_view_module": "@jupyter-widgets/base",
      "_view_module_version": "1.2.0",
      "_view_name": "LayoutView",
      "align_content": null,
      "align_items": null,
      "align_self": null,
      "border": null,
      "bottom": null,
      "display": null,
      "flex": null,
      "flex_flow": null,
      "grid_area": null,
      "grid_auto_columns": null,
      "grid_auto_flow": null,
      "grid_auto_rows": null,
      "grid_column": null,
      "grid_gap": null,
      "grid_row": null,
      "grid_template_areas": null,
      "grid_template_columns": null,
      "grid_template_rows": null,
      "height": null,
      "justify_content": null,
      "justify_items": null,
      "left": null,
      "margin": null,
      "max_height": null,
      "max_width": null,
      "min_height": null,
      "min_width": null,
      "object_fit": null,
      "object_position": null,
      "order": null,
      "overflow": null,
      "overflow_x": null,
      "overflow_y": null,
      "padding": null,
      "right": null,
      "top": null,
      "visibility": null,
      "width": null
     }
    },
    "9d13672c0a0248848b798200d3aef7f3": {
     "model_module": "@jupyter-widgets/controls",
     "model_module_version": "1.5.0",
     "model_name": "DescriptionStyleModel",
     "state": {
      "_model_module": "@jupyter-widgets/controls",
      "_model_module_version": "1.5.0",
      "_model_name": "DescriptionStyleModel",
      "_view_count": null,
      "_view_module": "@jupyter-widgets/base",
      "_view_module_version": "1.2.0",
      "_view_name": "StyleView",
      "description_width": ""
     }
    },
    "9ddf0ee48bc240508722b843247b97c2": {
     "model_module": "@jupyter-widgets/controls",
     "model_module_version": "1.5.0",
     "model_name": "HTMLModel",
     "state": {
      "_dom_classes": [],
      "_model_module": "@jupyter-widgets/controls",
      "_model_module_version": "1.5.0",
      "_model_name": "HTMLModel",
      "_view_count": null,
      "_view_module": "@jupyter-widgets/controls",
      "_view_module_version": "1.5.0",
      "_view_name": "HTMLView",
      "description": "",
      "description_tooltip": null,
      "layout": "IPY_MODEL_545223976704484294800dd466bbf967",
      "placeholder": "​",
      "style": "IPY_MODEL_d8e4215dc52a494a8b55a3fd487cfe7a",
      "value": " 989/989 [00:00&lt;00:00, 32.2kB/s]"
     }
    },
    "9df098ec08de42c0a261d2d9ec395412": {
     "model_module": "@jupyter-widgets/controls",
     "model_module_version": "1.5.0",
     "model_name": "ProgressStyleModel",
     "state": {
      "_model_module": "@jupyter-widgets/controls",
      "_model_module_version": "1.5.0",
      "_model_name": "ProgressStyleModel",
      "_view_count": null,
      "_view_module": "@jupyter-widgets/base",
      "_view_module_version": "1.2.0",
      "_view_name": "StyleView",
      "bar_color": null,
      "description_width": ""
     }
    },
    "a8e6d9ca608a42729d853c9c3a5f5df7": {
     "model_module": "@jupyter-widgets/base",
     "model_module_version": "1.2.0",
     "model_name": "LayoutModel",
     "state": {
      "_model_module": "@jupyter-widgets/base",
      "_model_module_version": "1.2.0",
      "_model_name": "LayoutModel",
      "_view_count": null,
      "_view_module": "@jupyter-widgets/base",
      "_view_module_version": "1.2.0",
      "_view_name": "LayoutView",
      "align_content": null,
      "align_items": null,
      "align_self": null,
      "border": null,
      "bottom": null,
      "display": null,
      "flex": null,
      "flex_flow": null,
      "grid_area": null,
      "grid_auto_columns": null,
      "grid_auto_flow": null,
      "grid_auto_rows": null,
      "grid_column": null,
      "grid_gap": null,
      "grid_row": null,
      "grid_template_areas": null,
      "grid_template_columns": null,
      "grid_template_rows": null,
      "height": null,
      "justify_content": null,
      "justify_items": null,
      "left": null,
      "margin": null,
      "max_height": null,
      "max_width": null,
      "min_height": null,
      "min_width": null,
      "object_fit": null,
      "object_position": null,
      "order": null,
      "overflow": null,
      "overflow_x": null,
      "overflow_y": null,
      "padding": null,
      "right": null,
      "top": null,
      "visibility": null,
      "width": null
     }
    },
    "a9ab825be94d41ceb9511d5a8c9e3d08": {
     "model_module": "@jupyter-widgets/controls",
     "model_module_version": "1.5.0",
     "model_name": "ProgressStyleModel",
     "state": {
      "_model_module": "@jupyter-widgets/controls",
      "_model_module_version": "1.5.0",
      "_model_name": "ProgressStyleModel",
      "_view_count": null,
      "_view_module": "@jupyter-widgets/base",
      "_view_module_version": "1.2.0",
      "_view_name": "StyleView",
      "bar_color": null,
      "description_width": ""
     }
    },
    "ab0e98ebba7f423aafc9071f76802381": {
     "model_module": "@jupyter-widgets/controls",
     "model_module_version": "1.5.0",
     "model_name": "HBoxModel",
     "state": {
      "_dom_classes": [],
      "_model_module": "@jupyter-widgets/controls",
      "_model_module_version": "1.5.0",
      "_model_name": "HBoxModel",
      "_view_count": null,
      "_view_module": "@jupyter-widgets/controls",
      "_view_module_version": "1.5.0",
      "_view_name": "HBoxView",
      "box_style": "",
      "children": [
       "IPY_MODEL_7083f96f1a5443829ae965f0de0d6e60",
       "IPY_MODEL_824983d8d14f4f61b19e7a820936c815",
       "IPY_MODEL_9ddf0ee48bc240508722b843247b97c2"
      ],
      "layout": "IPY_MODEL_67e4691a2d834896b7eb2ff58733905a"
     }
    },
    "ae35f20345ae40bbb15bb63f54677b9e": {
     "model_module": "@jupyter-widgets/base",
     "model_module_version": "1.2.0",
     "model_name": "LayoutModel",
     "state": {
      "_model_module": "@jupyter-widgets/base",
      "_model_module_version": "1.2.0",
      "_model_name": "LayoutModel",
      "_view_count": null,
      "_view_module": "@jupyter-widgets/base",
      "_view_module_version": "1.2.0",
      "_view_name": "LayoutView",
      "align_content": null,
      "align_items": null,
      "align_self": null,
      "border": null,
      "bottom": null,
      "display": null,
      "flex": null,
      "flex_flow": null,
      "grid_area": null,
      "grid_auto_columns": null,
      "grid_auto_flow": null,
      "grid_auto_rows": null,
      "grid_column": null,
      "grid_gap": null,
      "grid_row": null,
      "grid_template_areas": null,
      "grid_template_columns": null,
      "grid_template_rows": null,
      "height": null,
      "justify_content": null,
      "justify_items": null,
      "left": null,
      "margin": null,
      "max_height": null,
      "max_width": null,
      "min_height": null,
      "min_width": null,
      "object_fit": null,
      "object_position": null,
      "order": null,
      "overflow": null,
      "overflow_x": null,
      "overflow_y": null,
      "padding": null,
      "right": null,
      "top": null,
      "visibility": null,
      "width": null
     }
    },
    "b0851cbc9bd6471db4591193691157d3": {
     "model_module": "@jupyter-widgets/controls",
     "model_module_version": "1.5.0",
     "model_name": "FloatProgressModel",
     "state": {
      "_dom_classes": [],
      "_model_module": "@jupyter-widgets/controls",
      "_model_module_version": "1.5.0",
      "_model_name": "FloatProgressModel",
      "_view_count": null,
      "_view_module": "@jupyter-widgets/controls",
      "_view_module_version": "1.5.0",
      "_view_name": "ProgressView",
      "bar_style": "success",
      "description": "",
      "description_tooltip": null,
      "layout": "IPY_MODEL_e248b87287f24d09a68f1d7186cb0d82",
      "max": 221792,
      "min": 0,
      "orientation": "horizontal",
      "style": "IPY_MODEL_ecd0dc1ada2646eaa3fffbb7483201f3",
      "value": 221792
     }
    },
    "c8919bee80d44954929fe5ecf20bd387": {
     "model_module": "@jupyter-widgets/base",
     "model_module_version": "1.2.0",
     "model_name": "LayoutModel",
     "state": {
      "_model_module": "@jupyter-widgets/base",
      "_model_module_version": "1.2.0",
      "_model_name": "LayoutModel",
      "_view_count": null,
      "_view_module": "@jupyter-widgets/base",
      "_view_module_version": "1.2.0",
      "_view_name": "LayoutView",
      "align_content": null,
      "align_items": null,
      "align_self": null,
      "border": null,
      "bottom": null,
      "display": null,
      "flex": null,
      "flex_flow": null,
      "grid_area": null,
      "grid_auto_columns": null,
      "grid_auto_flow": null,
      "grid_auto_rows": null,
      "grid_column": null,
      "grid_gap": null,
      "grid_row": null,
      "grid_template_areas": null,
      "grid_template_columns": null,
      "grid_template_rows": null,
      "height": null,
      "justify_content": null,
      "justify_items": null,
      "left": null,
      "margin": null,
      "max_height": null,
      "max_width": null,
      "min_height": null,
      "min_width": null,
      "object_fit": null,
      "object_position": null,
      "order": null,
      "overflow": null,
      "overflow_x": null,
      "overflow_y": null,
      "padding": null,
      "right": null,
      "top": null,
      "visibility": null,
      "width": null
     }
    },
    "d2d9f15118a24cd9a26f0869cbc5a60d": {
     "model_module": "@jupyter-widgets/controls",
     "model_module_version": "1.5.0",
     "model_name": "ProgressStyleModel",
     "state": {
      "_model_module": "@jupyter-widgets/controls",
      "_model_module_version": "1.5.0",
      "_model_name": "ProgressStyleModel",
      "_view_count": null,
      "_view_module": "@jupyter-widgets/base",
      "_view_module_version": "1.2.0",
      "_view_name": "StyleView",
      "bar_color": null,
      "description_width": ""
     }
    },
    "d3170123a5674b1997fc5df7d90976c1": {
     "model_module": "@jupyter-widgets/base",
     "model_module_version": "1.2.0",
     "model_name": "LayoutModel",
     "state": {
      "_model_module": "@jupyter-widgets/base",
      "_model_module_version": "1.2.0",
      "_model_name": "LayoutModel",
      "_view_count": null,
      "_view_module": "@jupyter-widgets/base",
      "_view_module_version": "1.2.0",
      "_view_name": "LayoutView",
      "align_content": null,
      "align_items": null,
      "align_self": null,
      "border": null,
      "bottom": null,
      "display": null,
      "flex": null,
      "flex_flow": null,
      "grid_area": null,
      "grid_auto_columns": null,
      "grid_auto_flow": null,
      "grid_auto_rows": null,
      "grid_column": null,
      "grid_gap": null,
      "grid_row": null,
      "grid_template_areas": null,
      "grid_template_columns": null,
      "grid_template_rows": null,
      "height": null,
      "justify_content": null,
      "justify_items": null,
      "left": null,
      "margin": null,
      "max_height": null,
      "max_width": null,
      "min_height": null,
      "min_width": null,
      "object_fit": null,
      "object_position": null,
      "order": null,
      "overflow": null,
      "overflow_x": null,
      "overflow_y": null,
      "padding": null,
      "right": null,
      "top": null,
      "visibility": null,
      "width": null
     }
    },
    "d6766c98e2f847088fa634fd7cf42152": {
     "model_module": "@jupyter-widgets/controls",
     "model_module_version": "1.5.0",
     "model_name": "DescriptionStyleModel",
     "state": {
      "_model_module": "@jupyter-widgets/controls",
      "_model_module_version": "1.5.0",
      "_model_name": "DescriptionStyleModel",
      "_view_count": null,
      "_view_module": "@jupyter-widgets/base",
      "_view_module_version": "1.2.0",
      "_view_name": "StyleView",
      "description_width": ""
     }
    },
    "d8e4215dc52a494a8b55a3fd487cfe7a": {
     "model_module": "@jupyter-widgets/controls",
     "model_module_version": "1.5.0",
     "model_name": "DescriptionStyleModel",
     "state": {
      "_model_module": "@jupyter-widgets/controls",
      "_model_module_version": "1.5.0",
      "_model_name": "DescriptionStyleModel",
      "_view_count": null,
      "_view_module": "@jupyter-widgets/base",
      "_view_module_version": "1.2.0",
      "_view_name": "StyleView",
      "description_width": ""
     }
    },
    "dc22bf2f10634e6d9e25340130c35365": {
     "model_module": "@jupyter-widgets/controls",
     "model_module_version": "1.5.0",
     "model_name": "FloatProgressModel",
     "state": {
      "_dom_classes": [],
      "_model_module": "@jupyter-widgets/controls",
      "_model_module_version": "1.5.0",
      "_model_name": "FloatProgressModel",
      "_view_count": null,
      "_view_module": "@jupyter-widgets/controls",
      "_view_module_version": "1.5.0",
      "_view_name": "ProgressView",
      "bar_style": "success",
      "description": "",
      "description_tooltip": null,
      "layout": "IPY_MODEL_37cb329ac70a4c70b8f154a28f0732b7",
      "max": 141480422,
      "min": 0,
      "orientation": "horizontal",
      "style": "IPY_MODEL_d2d9f15118a24cd9a26f0869cbc5a60d",
      "value": 141480422
     }
    },
    "dfd7af79ab024f0a8cfd8e4cc01077d8": {
     "model_module": "@jupyter-widgets/controls",
     "model_module_version": "1.5.0",
     "model_name": "HTMLModel",
     "state": {
      "_dom_classes": [],
      "_model_module": "@jupyter-widgets/controls",
      "_model_module_version": "1.5.0",
      "_model_name": "HTMLModel",
      "_view_count": null,
      "_view_module": "@jupyter-widgets/controls",
      "_view_module_version": "1.5.0",
      "_view_name": "HTMLView",
      "description": "",
      "description_tooltip": null,
      "layout": "IPY_MODEL_d3170123a5674b1997fc5df7d90976c1",
      "placeholder": "​",
      "style": "IPY_MODEL_d6766c98e2f847088fa634fd7cf42152",
      "value": "Downloading vocab.txt: 100%"
     }
    },
    "e248b87287f24d09a68f1d7186cb0d82": {
     "model_module": "@jupyter-widgets/base",
     "model_module_version": "1.2.0",
     "model_name": "LayoutModel",
     "state": {
      "_model_module": "@jupyter-widgets/base",
      "_model_module_version": "1.2.0",
      "_model_name": "LayoutModel",
      "_view_count": null,
      "_view_module": "@jupyter-widgets/base",
      "_view_module_version": "1.2.0",
      "_view_name": "LayoutView",
      "align_content": null,
      "align_items": null,
      "align_self": null,
      "border": null,
      "bottom": null,
      "display": null,
      "flex": null,
      "flex_flow": null,
      "grid_area": null,
      "grid_auto_columns": null,
      "grid_auto_flow": null,
      "grid_auto_rows": null,
      "grid_column": null,
      "grid_gap": null,
      "grid_row": null,
      "grid_template_areas": null,
      "grid_template_columns": null,
      "grid_template_rows": null,
      "height": null,
      "justify_content": null,
      "justify_items": null,
      "left": null,
      "margin": null,
      "max_height": null,
      "max_width": null,
      "min_height": null,
      "min_width": null,
      "object_fit": null,
      "object_position": null,
      "order": null,
      "overflow": null,
      "overflow_x": null,
      "overflow_y": null,
      "padding": null,
      "right": null,
      "top": null,
      "visibility": null,
      "width": null
     }
    },
    "e3133e29ca9a4503a97eaa4de9a66128": {
     "model_module": "@jupyter-widgets/base",
     "model_module_version": "1.2.0",
     "model_name": "LayoutModel",
     "state": {
      "_model_module": "@jupyter-widgets/base",
      "_model_module_version": "1.2.0",
      "_model_name": "LayoutModel",
      "_view_count": null,
      "_view_module": "@jupyter-widgets/base",
      "_view_module_version": "1.2.0",
      "_view_name": "LayoutView",
      "align_content": null,
      "align_items": null,
      "align_self": null,
      "border": null,
      "bottom": null,
      "display": null,
      "flex": null,
      "flex_flow": null,
      "grid_area": null,
      "grid_auto_columns": null,
      "grid_auto_flow": null,
      "grid_auto_rows": null,
      "grid_column": null,
      "grid_gap": null,
      "grid_row": null,
      "grid_template_areas": null,
      "grid_template_columns": null,
      "grid_template_rows": null,
      "height": null,
      "justify_content": null,
      "justify_items": null,
      "left": null,
      "margin": null,
      "max_height": null,
      "max_width": null,
      "min_height": null,
      "min_width": null,
      "object_fit": null,
      "object_position": null,
      "order": null,
      "overflow": null,
      "overflow_x": null,
      "overflow_y": null,
      "padding": null,
      "right": null,
      "top": null,
      "visibility": null,
      "width": null
     }
    },
    "e5df21c5164b40d887a687b94f95be93": {
     "model_module": "@jupyter-widgets/controls",
     "model_module_version": "1.5.0",
     "model_name": "HTMLModel",
     "state": {
      "_dom_classes": [],
      "_model_module": "@jupyter-widgets/controls",
      "_model_module_version": "1.5.0",
      "_model_name": "HTMLModel",
      "_view_count": null,
      "_view_module": "@jupyter-widgets/controls",
      "_view_module_version": "1.5.0",
      "_view_name": "HTMLView",
      "description": "",
      "description_tooltip": null,
      "layout": "IPY_MODEL_0a31689288474ae698becfa8ab434309",
      "placeholder": "​",
      "style": "IPY_MODEL_9d13672c0a0248848b798200d3aef7f3",
      "value": "Downloading tokenizer_config.json: 100%"
     }
    },
    "ecd0dc1ada2646eaa3fffbb7483201f3": {
     "model_module": "@jupyter-widgets/controls",
     "model_module_version": "1.5.0",
     "model_name": "ProgressStyleModel",
     "state": {
      "_model_module": "@jupyter-widgets/controls",
      "_model_module_version": "1.5.0",
      "_model_name": "ProgressStyleModel",
      "_view_count": null,
      "_view_module": "@jupyter-widgets/base",
      "_view_module_version": "1.2.0",
      "_view_name": "StyleView",
      "bar_color": null,
      "description_width": ""
     }
    },
    "f1b362c151ff4a4cadb4821620792ea3": {
     "model_module": "@jupyter-widgets/controls",
     "model_module_version": "1.5.0",
     "model_name": "HBoxModel",
     "state": {
      "_dom_classes": [],
      "_model_module": "@jupyter-widgets/controls",
      "_model_module_version": "1.5.0",
      "_model_name": "HBoxModel",
      "_view_count": null,
      "_view_module": "@jupyter-widgets/controls",
      "_view_module_version": "1.5.0",
      "_view_name": "HBoxView",
      "box_style": "",
      "children": [
       "IPY_MODEL_64a41df3dc704575a5a16235067acfbb",
       "IPY_MODEL_dc22bf2f10634e6d9e25340130c35365",
       "IPY_MODEL_3f99646e1e91499984ea535e47aa91a2"
      ],
      "layout": "IPY_MODEL_c8919bee80d44954929fe5ecf20bd387"
     }
    },
    "f4c55c946e9847e3a1de5cb156c49534": {
     "model_module": "@jupyter-widgets/controls",
     "model_module_version": "1.5.0",
     "model_name": "FloatProgressModel",
     "state": {
      "_dom_classes": [],
      "_model_module": "@jupyter-widgets/controls",
      "_model_module_version": "1.5.0",
      "_model_name": "FloatProgressModel",
      "_view_count": null,
      "_view_module": "@jupyter-widgets/controls",
      "_view_module_version": "1.5.0",
      "_view_name": "ProgressView",
      "bar_style": "success",
      "description": "",
      "description_tooltip": null,
      "layout": "IPY_MODEL_e3133e29ca9a4503a97eaa4de9a66128",
      "max": 48,
      "min": 0,
      "orientation": "horizontal",
      "style": "IPY_MODEL_a9ab825be94d41ceb9511d5a8c9e3d08",
      "value": 48
     }
    },
    "f5aa4290c024440aab99a6ddefe915a8": {
     "model_module": "@jupyter-widgets/base",
     "model_module_version": "1.2.0",
     "model_name": "LayoutModel",
     "state": {
      "_model_module": "@jupyter-widgets/base",
      "_model_module_version": "1.2.0",
      "_model_name": "LayoutModel",
      "_view_count": null,
      "_view_module": "@jupyter-widgets/base",
      "_view_module_version": "1.2.0",
      "_view_name": "LayoutView",
      "align_content": null,
      "align_items": null,
      "align_self": null,
      "border": null,
      "bottom": null,
      "display": null,
      "flex": null,
      "flex_flow": null,
      "grid_area": null,
      "grid_auto_columns": null,
      "grid_auto_flow": null,
      "grid_auto_rows": null,
      "grid_column": null,
      "grid_gap": null,
      "grid_row": null,
      "grid_template_areas": null,
      "grid_template_columns": null,
      "grid_template_rows": null,
      "height": null,
      "justify_content": null,
      "justify_items": null,
      "left": null,
      "margin": null,
      "max_height": null,
      "max_width": null,
      "min_height": null,
      "min_width": null,
      "object_fit": null,
      "object_position": null,
      "order": null,
      "overflow": null,
      "overflow_x": null,
      "overflow_y": null,
      "padding": null,
      "right": null,
      "top": null,
      "visibility": null,
      "width": null
     }
    }
   }
  }
 },
 "nbformat": 4,
 "nbformat_minor": 1
}
