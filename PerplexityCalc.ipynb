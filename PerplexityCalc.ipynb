{
 "cells": [
  {
   "cell_type": "code",
   "execution_count": 1,
   "id": "084da45b",
   "metadata": {},
   "outputs": [],
   "source": [
    "from transformers import GPT2Tokenizer, GPT2LMHeadModel\n",
    "from attack_util import get_perplexity"
   ]
  },
  {
   "cell_type": "code",
   "execution_count": 2,
   "id": "843d3e4a",
   "metadata": {},
   "outputs": [],
   "source": [
    "from tqdm.notebook import tqdm"
   ]
  },
  {
   "cell_type": "code",
   "execution_count": 3,
   "id": "fe79f95e",
   "metadata": {},
   "outputs": [],
   "source": [
    "tok = GPT2Tokenizer.from_pretrained('gpt2')\n",
    "model = GPT2LMHeadModel.from_pretrained('gpt2').cuda()"
   ]
  },
  {
   "cell_type": "code",
   "execution_count": 4,
   "id": "ebe82af3",
   "metadata": {},
   "outputs": [],
   "source": [
    "triggers = []\n",
    "with open('trigger_list.txt', 'r') as fp:\n",
    "    for line in fp:\n",
    "        x = line[:-1]\n",
    "        triggers.append(x)"
   ]
  },
  {
   "cell_type": "code",
   "execution_count": 5,
   "id": "0ee458bd",
   "metadata": {},
   "outputs": [],
   "source": [
    "test_sens = []\n",
    "with open('test_sens.txt', 'r') as fp:\n",
    "    for line in fp:\n",
    "        if len(line) > 1024 :\n",
    "            line = line[0:1024]\n",
    "        x = line[:-1]\n",
    "        test_sens.append(x)"
   ]
  },
  {
   "cell_type": "code",
   "execution_count": 6,
   "id": "8e39fd46",
   "metadata": {
    "scrolled": true
   },
   "outputs": [
    {
     "data": {
      "application/vnd.jupyter.widget-view+json": {
       "model_id": "86cab5e656294fe3aef3075247b01b09",
       "version_major": 2,
       "version_minor": 0
      },
      "text/plain": [
       "  0%|          | 0/22 [00:00<?, ?it/s]"
      ]
     },
     "metadata": {},
     "output_type": "display_data"
    }
   ],
   "source": [
    "perplexity_average = []\n",
    "for trigger in tqdm(triggers[0]) :\n",
    "    for sentence in test_sens :\n",
    "        sen_with_trigger = trigger + \" \"+ sentence\n",
    "        perplexity_average.append(get_perplexity(sen_with_trigger, model, tok))"
   ]
  },
  {
   "cell_type": "code",
   "execution_count": 7,
   "id": "ef98e456",
   "metadata": {},
   "outputs": [
    {
     "data": {
      "text/plain": [
       "142.85317426903674"
      ]
     },
     "execution_count": 7,
     "metadata": {},
     "output_type": "execute_result"
    }
   ],
   "source": [
    "sum(perplexity_average)/len(perplexity_average)"
   ]
  },
  {
   "cell_type": "code",
   "execution_count": 8,
   "id": "0809e3c9",
   "metadata": {},
   "outputs": [],
   "source": [
    "perplexity_average = []\n",
    "for sentence in test_sens :\n",
    "    perplexity_average.append(get_perplexity(sentence, model, tok))"
   ]
  },
  {
   "cell_type": "code",
   "execution_count": 9,
   "id": "2f9e5cd5",
   "metadata": {},
   "outputs": [
    {
     "data": {
      "text/plain": [
       "134.95663719092403"
      ]
     },
     "execution_count": 9,
     "metadata": {},
     "output_type": "execute_result"
    }
   ],
   "source": [
    "sum(perplexity_average)/len(perplexity_average)"
   ]
  },
  {
   "cell_type": "code",
   "execution_count": null,
   "id": "091717a2",
   "metadata": {},
   "outputs": [],
   "source": []
  }
 ],
 "metadata": {
  "kernelspec": {
   "display_name": "Python 3 (ipykernel)",
   "language": "python",
   "name": "python3"
  },
  "language_info": {
   "codemirror_mode": {
    "name": "ipython",
    "version": 3
   },
   "file_extension": ".py",
   "mimetype": "text/x-python",
   "name": "python",
   "nbconvert_exporter": "python",
   "pygments_lexer": "ipython3",
   "version": "3.10.4"
  }
 },
 "nbformat": 4,
 "nbformat_minor": 5
}
